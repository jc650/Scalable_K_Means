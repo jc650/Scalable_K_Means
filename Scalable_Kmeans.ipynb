{
 "cells": [
  {
   "cell_type": "markdown",
   "metadata": {},
   "source": [
    "# STA 663 Final Project: Implementing Scalable K Means"
   ]
  },
  {
   "cell_type": "markdown",
   "metadata": {},
   "source": [
    "Yunxuan Li"
   ]
  },
  {
   "cell_type": "markdown",
   "metadata": {},
   "source": [
    "## 1. Background"
   ]
  },
  {
   "cell_type": "code",
   "execution_count": null,
   "metadata": {
    "collapsed": true
   },
   "outputs": [],
   "source": []
  },
  {
   "cell_type": "code",
   "execution_count": 7,
   "metadata": {
    "collapsed": false
   },
   "outputs": [],
   "source": [
    "df=pd.read_csv(\"Data_gold.csv\")"
   ]
  },
  {
   "cell_type": "markdown",
   "metadata": {},
   "source": [
    "## 2. Implementation"
   ]
  },
  {
   "cell_type": "markdown",
   "metadata": {},
   "source": [
    "K-means++ and K-meansII are both implemented in this section. This allows us to compare the performance of K-meansII in the testing section."
   ]
  },
  {
   "cell_type": "code",
   "execution_count": 3,
   "metadata": {
    "collapsed": true
   },
   "outputs": [],
   "source": [
    "import numpy as np\n",
    "import os\n",
    "import pandas as pd\n",
    "import random\n",
    "import numpy.linalg as la"
   ]
  },
  {
   "cell_type": "code",
   "execution_count": null,
   "metadata": {
    "collapsed": true
   },
   "outputs": [],
   "source": [
    "def euclidean_dist(a,b):\n",
    "    return dist = la.norm(a-b)\n",
    "\n",
    "def distance(x,Y):\n",
    "    \"\"\"\n",
    "    x is a single vector, Y is multiple vectors\n",
    "    \"\"\"\n",
    "    dist=[euclidean_dist(x,y) for y in Y]\n",
    "    return min(dist)\n",
    "    \n",
    "def cost(Y,C):\n",
    "    cost_individual=[distance(y,C) for y in Y]\n",
    "    return sum(cost_individual**2)"
   ]
  },
  {
   "cell_type": "code",
   "execution_count": 13,
   "metadata": {
    "collapsed": false
   },
   "outputs": [],
   "source": [
    "dff=np.array(df)\n",
    "dff[1,]\n",
    "centers=[]\n",
    "centers.append(dff[1,])"
   ]
  },
  {
   "cell_type": "code",
   "execution_count": 15,
   "metadata": {
    "collapsed": false
   },
   "outputs": [
    {
     "data": {
      "text/plain": [
       "2"
      ]
     },
     "execution_count": 15,
     "metadata": {},
     "output_type": "execute_result"
    }
   ],
   "source": [
    "centers.append(dff[1,])\n",
    "len(centers)"
   ]
  },
  {
   "cell_type": "code",
   "execution_count": null,
   "metadata": {
    "collapsed": true
   },
   "outputs": [],
   "source": [
    "def KmeansPP(X,k):\n",
    "    \"\"\"K-means ++ Initialization\"\"\"\n",
    "    #starting with a randomly selected point.\n",
    "    C=[]\n",
    "    c=np.random.randint(0,len(X),1)\n",
    "    C.append(X[c,])\n",
    "    \n",
    "    dist2=[distance(X[i,],C) for i in len(X)]**2\n",
    "    total_cost=sum(dist2)\n",
    "    probability=dist2/t'\\otal_cost\n",
    "    \n",
    "    range_chosen=range(0,X.shape[0])\n",
    "    \n",
    "    while(len(centers)<k):\n",
    "        cc=np.random.choice(range_chosen,1,probability)\n",
    "        C.append(X[cc,])"
   ]
  },
  {
   "cell_type": "markdown",
   "metadata": {},
   "source": [
    "## 3. Testing"
   ]
  },
  {
   "cell_type": "markdown",
   "metadata": {},
   "source": [
    "## 4. Optimization"
   ]
  },
  {
   "cell_type": "markdown",
   "metadata": {},
   "source": [
    "## 5. Packaging"
   ]
  },
  {
   "cell_type": "code",
   "execution_count": null,
   "metadata": {
    "collapsed": true
   },
   "outputs": [],
   "source": []
  }
 ],
 "metadata": {
  "kernelspec": {
   "display_name": "Python 3",
   "language": "python",
   "name": "python3"
  },
  "language_info": {
   "codemirror_mode": {
    "name": "ipython",
    "version": 3
   },
   "file_extension": ".py",
   "mimetype": "text/x-python",
   "name": "python",
   "nbconvert_exporter": "python",
   "pygments_lexer": "ipython3",
   "version": "3.5.2"
  }
 },
 "nbformat": 4,
 "nbformat_minor": 2
}
