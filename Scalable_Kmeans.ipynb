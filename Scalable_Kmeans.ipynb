{
 "cells": [
  {
   "cell_type": "markdown",
   "metadata": {},
   "source": [
    "# STA 663 Final Project: Implementing Scalable K Means"
   ]
  },
  {
   "cell_type": "markdown",
   "metadata": {},
   "source": [
    "Yunxuan Li"
   ]
  },
  {
   "cell_type": "markdown",
   "metadata": {},
   "source": [
    "## 1. Background"
   ]
  },
  {
   "cell_type": "code",
   "execution_count": null,
   "metadata": {
    "collapsed": true
   },
   "outputs": [],
   "source": []
  },
  {
   "cell_type": "code",
   "execution_count": 7,
   "metadata": {
    "collapsed": false
   },
   "outputs": [],
   "source": [
    "df=pd.read_csv(\"Data_gold.csv\")"
   ]
  },
  {
   "cell_type": "markdown",
   "metadata": {},
   "source": [
    "## 2. Implementation"
   ]
  },
  {
   "cell_type": "markdown",
   "metadata": {},
   "source": [
    "K-means++ and K-meansII are both implemented in this section. This allows us to compare the performance of K-meansII in the testing section."
   ]
  },
  {
   "cell_type": "code",
   "execution_count": 3,
   "metadata": {
    "collapsed": true
   },
   "outputs": [],
   "source": [
    "import numpy as np\n",
    "import os\n",
    "import pandas as pd\n",
    "import random\n",
    "import numpy.linalg as la"
   ]
  },
  {
   "cell_type": "code",
   "execution_count": null,
   "metadata": {
    "collapsed": true
   },
   "outputs": [],
   "source": [
    "def euclidean_dist(a,b):\n",
    "    return dist = la.norm(a-b)\n",
    "\n",
    "def distance(x,Y):\n",
    "    \"\"\"\n",
    "    x is a single vector, Y is multiple vectors\n",
    "    \"\"\"\n",
    "    dist=[euclidean_dist(x,y) for y in Y]\n",
    "    return min(dist)\n",
    "\n",
    "def distance_index(x,Y):\n",
    "    \"\"\"\n",
    "    returns the index of y which is closest to x\n",
    "    \"\"\"\n",
    "    dist=[euclidean_dist(x,y) for y in Y]\n",
    "    return np.argmin(dist)\n",
    "    \n",
    "    \n",
    "def cost(Y,C):\n",
    "    cost_individual=[distance(y,C) for y in Y]\n",
    "    return sum(cost_individual**2)"
   ]
  },
  {
   "cell_type": "code",
   "execution_count": 13,
   "metadata": {
    "collapsed": false
   },
   "outputs": [],
   "source": [
    "dff=np.array(df)\n",
    "dff[1,]\n",
    "centers=[]\n",
    "centers.append(dff[1,])"
   ]
  },
  {
   "cell_type": "code",
   "execution_count": 15,
   "metadata": {
    "collapsed": false
   },
   "outputs": [
    {
     "data": {
      "text/plain": [
       "2"
      ]
     },
     "execution_count": 15,
     "metadata": {},
     "output_type": "execute_result"
    }
   ],
   "source": [
    "centers.append(dff[1,])\n",
    "len(centers)"
   ]
  },
  {
   "cell_type": "code",
   "execution_count": 17,
   "metadata": {
    "collapsed": false
   },
   "outputs": [],
   "source": [
    "def KmeansPP(X,k):\n",
    "    \"\"\"K-means ++ Initialization\"\"\"\n",
    "    #starting with a randomly selected point.\n",
    "    C=[]\n",
    "    c=np.random.randint(0,len(X),1)\n",
    "    C.append(X[c,])\n",
    "    \n",
    "    dist2=[distance(X[i,],C) for i in len(X)]**2\n",
    "    total_cost=sum(dist2)\n",
    "    probability=dist2/total_cost\n",
    "    \n",
    "    range_chosen=range(0,X.shape[0])\n",
    "    \n",
    "    while(len(centers)<k):\n",
    "        cc=np.random.choice(range_chosen,1,probability)\n",
    "        C.append(X[cc,])"
   ]
  },
  {
   "cell_type": "code",
   "execution_count": null,
   "metadata": {
    "collapsed": true
   },
   "outputs": [],
   "source": [
    "def Kmeans(C,X,k):\n",
    "    \"\"\"\n",
    "    K-means algorithm implementation\n",
    "    C: initial centroids\n",
    "    X: dataset\n",
    "    Returns the final centroids and the index of center each vector x belongs to\n",
    "    \"\"\"\n",
    "    convergence=1\n",
    "    C0=C\n",
    "    while convergence>1e-6:\n",
    "        C1=C0\n",
    "        X_C=np.zeros(len(X))\n",
    "        X_C=[distance_index(x,C0)for x in X]\n",
    "        for i in range(0,len(X)):\n",
    "            X_C[i]=distance_index(X[i],C0)\n",
    "        for i in range(0,len(C0)):\n",
    "            X_Ci=(X[np.where(X_C==i)])\n",
    "            C0[i]=np.mean(X_Ci,axis=0)\n",
    "        convergence=euclidean_dist(C1,C0)\n",
    "    return C0,X_C    "
   ]
  },
  {
   "cell_type": "code",
   "execution_count": 19,
   "metadata": {
    "collapsed": false
   },
   "outputs": [
    {
     "data": {
      "text/plain": [
       "array([1, 1, 0])"
      ]
     },
     "execution_count": 19,
     "metadata": {},
     "output_type": "execute_result"
    }
   ],
   "source": [
    "C1=np.array([[1,2,3],\n",
    "            [2,3,4]])\n",
    "C2=np.array([[2,2,3],\n",
    "            [2,2,4]])\n"
   ]
  },
  {
   "cell_type": "markdown",
   "metadata": {},
   "source": [
    "## 3. Testing"
   ]
  },
  {
   "cell_type": "markdown",
   "metadata": {},
   "source": [
    "## 4. Optimization"
   ]
  },
  {
   "cell_type": "markdown",
   "metadata": {},
   "source": [
    "## 5. Packaging"
   ]
  },
  {
   "cell_type": "code",
   "execution_count": null,
   "metadata": {
    "collapsed": true
   },
   "outputs": [],
   "source": []
  }
 ],
 "metadata": {
  "kernelspec": {
   "display_name": "Python 3",
   "language": "python",
   "name": "python3"
  },
  "language_info": {
   "codemirror_mode": {
    "name": "ipython",
    "version": 3
   },
   "file_extension": ".py",
   "mimetype": "text/x-python",
   "name": "python",
   "nbconvert_exporter": "python",
   "pygments_lexer": "ipython3",
   "version": "3.5.2"
  }
 },
 "nbformat": 4,
 "nbformat_minor": 2
}
